{
 "cells": [
  {
   "cell_type": "code",
   "execution_count": 1,
   "metadata": {
    "collapsed": false
   },
   "outputs": [],
   "source": [
    "import os\n",
    "import sys\n",
    "import pandas as pd\n",
    "import numpy as np\n",
    "import matplotlib as plt\n",
    "%matplotlib inline"
   ]
  },
  {
   "cell_type": "code",
   "execution_count": 2,
   "metadata": {
    "collapsed": false
   },
   "outputs": [
    {
     "name": "stdout",
     "output_type": "stream",
     "text": [
      "/gws/open/NYCOpenData/nycopendata/data\n"
     ]
    }
   ],
   "source": [
    "DFDATA = os.getenv(\"DFDATA\")\n",
    "print DFDATA"
   ]
  },
  {
   "cell_type": "code",
   "execution_count": 3,
   "metadata": {
    "collapsed": false
   },
   "outputs": [
    {
     "data": {
      "text/html": [
       "<div>\n",
       "<table border=\"1\" class=\"dataframe\">\n",
       "  <thead>\n",
       "    <tr style=\"text-align: right;\">\n",
       "      <th></th>\n",
       "      <th>Agency</th>\n",
       "      <th>Platform</th>\n",
       "      <th>Url</th>\n",
       "      <th>Date Sampled</th>\n",
       "      <th>Likes/Followers/Visits/Downloads</th>\n",
       "    </tr>\n",
       "  </thead>\n",
       "  <tbody>\n",
       "    <tr>\n",
       "      <th>0</th>\n",
       "      <td>nycgov</td>\n",
       "      <td>Google+</td>\n",
       "      <td>https://plus.google.com/u/0/b/1040309112776424...</td>\n",
       "      <td>12/12/2012 12:00:00 AM</td>\n",
       "      <td>NaN</td>\n",
       "    </tr>\n",
       "    <tr>\n",
       "      <th>1</th>\n",
       "      <td>TLC</td>\n",
       "      <td>Facebook</td>\n",
       "      <td>http://www.facebook.com/pages/NYC-Taxi-and-Lim...</td>\n",
       "      <td>12/12/2012 12:00:00 AM</td>\n",
       "      <td>505.0</td>\n",
       "    </tr>\n",
       "    <tr>\n",
       "      <th>2</th>\n",
       "      <td>DRIS</td>\n",
       "      <td>YouTube</td>\n",
       "      <td>http://www.youtube.com/nycdeptofrecords</td>\n",
       "      <td>12/12/2012 12:00:00 AM</td>\n",
       "      <td>NaN</td>\n",
       "    </tr>\n",
       "    <tr>\n",
       "      <th>3</th>\n",
       "      <td>Veteran's Affairs</td>\n",
       "      <td>Youtube</td>\n",
       "      <td>http://www.youtube.com/channel/UCi6IvOszIb3hHP...</td>\n",
       "      <td>12/12/2012 12:00:00 AM</td>\n",
       "      <td>NaN</td>\n",
       "    </tr>\n",
       "    <tr>\n",
       "      <th>4</th>\n",
       "      <td>NYC Water</td>\n",
       "      <td>Youtube</td>\n",
       "      <td>http://www.youtube.com/nycwater</td>\n",
       "      <td>12/12/2012 12:00:00 AM</td>\n",
       "      <td>NaN</td>\n",
       "    </tr>\n",
       "  </tbody>\n",
       "</table>\n",
       "</div>"
      ],
      "text/plain": [
       "              Agency  Platform  \\\n",
       "0             nycgov   Google+   \n",
       "1                TLC  Facebook   \n",
       "2               DRIS   YouTube   \n",
       "3  Veteran's Affairs   Youtube   \n",
       "4          NYC Water   Youtube   \n",
       "\n",
       "                                                 Url            Date Sampled  \\\n",
       "0  https://plus.google.com/u/0/b/1040309112776424...  12/12/2012 12:00:00 AM   \n",
       "1  http://www.facebook.com/pages/NYC-Taxi-and-Lim...  12/12/2012 12:00:00 AM   \n",
       "2            http://www.youtube.com/nycdeptofrecords  12/12/2012 12:00:00 AM   \n",
       "3  http://www.youtube.com/channel/UCi6IvOszIb3hHP...  12/12/2012 12:00:00 AM   \n",
       "4                    http://www.youtube.com/nycwater  12/12/2012 12:00:00 AM   \n",
       "\n",
       "   Likes/Followers/Visits/Downloads  \n",
       "0                               NaN  \n",
       "1                             505.0  \n",
       "2                               NaN  \n",
       "3                               NaN  \n",
       "4                               NaN  "
      ]
     },
     "execution_count": 3,
     "metadata": {},
     "output_type": "execute_result"
    }
   ],
   "source": [
    "data = pd.read_csv(DFDATA + \"/5b3a-rs48/1414245944/5b3a-rs48\")\n",
    "data.head()"
   ]
  },
  {
   "cell_type": "code",
   "execution_count": 4,
   "metadata": {
    "collapsed": false
   },
   "outputs": [
    {
     "data": {
      "text/plain": [
       "pandas.core.frame.DataFrame"
      ]
     },
     "execution_count": 4,
     "metadata": {},
     "output_type": "execute_result"
    }
   ],
   "source": [
    "type(data)"
   ]
  },
  {
   "cell_type": "code",
   "execution_count": 5,
   "metadata": {
    "collapsed": false
   },
   "outputs": [
    {
     "data": {
      "text/html": [
       "<div>\n",
       "<table border=\"1\" class=\"dataframe\">\n",
       "  <thead>\n",
       "    <tr style=\"text-align: right;\">\n",
       "      <th></th>\n",
       "      <th>Agency</th>\n",
       "      <th>Date Sampled</th>\n",
       "      <th>Likes/Followers/Visits/Downloads</th>\n",
       "    </tr>\n",
       "  </thead>\n",
       "  <tbody>\n",
       "    <tr>\n",
       "      <th>0</th>\n",
       "      <td>nycgov</td>\n",
       "      <td>12/12/2012 12:00:00 AM</td>\n",
       "      <td>NaN</td>\n",
       "    </tr>\n",
       "    <tr>\n",
       "      <th>1</th>\n",
       "      <td>TLC</td>\n",
       "      <td>12/12/2012 12:00:00 AM</td>\n",
       "      <td>505.0</td>\n",
       "    </tr>\n",
       "    <tr>\n",
       "      <th>2</th>\n",
       "      <td>DRIS</td>\n",
       "      <td>12/12/2012 12:00:00 AM</td>\n",
       "      <td>NaN</td>\n",
       "    </tr>\n",
       "    <tr>\n",
       "      <th>3</th>\n",
       "      <td>Veteran's Affairs</td>\n",
       "      <td>12/12/2012 12:00:00 AM</td>\n",
       "      <td>NaN</td>\n",
       "    </tr>\n",
       "    <tr>\n",
       "      <th>4</th>\n",
       "      <td>NYC Water</td>\n",
       "      <td>12/12/2012 12:00:00 AM</td>\n",
       "      <td>NaN</td>\n",
       "    </tr>\n",
       "  </tbody>\n",
       "</table>\n",
       "</div>"
      ],
      "text/plain": [
       "              Agency            Date Sampled  Likes/Followers/Visits/Downloads\n",
       "0             nycgov  12/12/2012 12:00:00 AM                               NaN\n",
       "1                TLC  12/12/2012 12:00:00 AM                             505.0\n",
       "2               DRIS  12/12/2012 12:00:00 AM                               NaN\n",
       "3  Veteran's Affairs  12/12/2012 12:00:00 AM                               NaN\n",
       "4          NYC Water  12/12/2012 12:00:00 AM                               NaN"
      ]
     },
     "execution_count": 5,
     "metadata": {},
     "output_type": "execute_result"
    }
   ],
   "source": [
    "data.drop(['Platform', 'Url'], axis=1, inplace=True)\n",
    "data.head()"
   ]
  },
  {
   "cell_type": "code",
   "execution_count": 6,
   "metadata": {
    "collapsed": false
   },
   "outputs": [
    {
     "data": {
      "text/html": [
       "<div>\n",
       "<table border=\"1\" class=\"dataframe\">\n",
       "  <thead>\n",
       "    <tr style=\"text-align: right;\">\n",
       "      <th></th>\n",
       "      <th>Agency</th>\n",
       "      <th>Date Sampled</th>\n",
       "      <th>Likes/Followers/Visits/Downloads</th>\n",
       "    </tr>\n",
       "  </thead>\n",
       "  <tbody>\n",
       "    <tr>\n",
       "      <th>1</th>\n",
       "      <td>TLC</td>\n",
       "      <td>12/12/2012 12:00:00 AM</td>\n",
       "      <td>505.0</td>\n",
       "    </tr>\n",
       "    <tr>\n",
       "      <th>6</th>\n",
       "      <td>MOAE</td>\n",
       "      <td>12/12/2012 12:00:00 AM</td>\n",
       "      <td>3.0</td>\n",
       "    </tr>\n",
       "    <tr>\n",
       "      <th>9</th>\n",
       "      <td>DSNY</td>\n",
       "      <td>12/12/2012 12:00:00 AM</td>\n",
       "      <td>1.0</td>\n",
       "    </tr>\n",
       "    <tr>\n",
       "      <th>10</th>\n",
       "      <td>DOH</td>\n",
       "      <td>12/12/2012 12:00:00 AM</td>\n",
       "      <td>143.0</td>\n",
       "    </tr>\n",
       "    <tr>\n",
       "      <th>15</th>\n",
       "      <td>MOME</td>\n",
       "      <td>12/12/2012 12:00:00 AM</td>\n",
       "      <td>343.0</td>\n",
       "    </tr>\n",
       "  </tbody>\n",
       "</table>\n",
       "</div>"
      ],
      "text/plain": [
       "   Agency            Date Sampled  Likes/Followers/Visits/Downloads\n",
       "1     TLC  12/12/2012 12:00:00 AM                             505.0\n",
       "6    MOAE  12/12/2012 12:00:00 AM                               3.0\n",
       "9    DSNY  12/12/2012 12:00:00 AM                               1.0\n",
       "10    DOH  12/12/2012 12:00:00 AM                             143.0\n",
       "15   MOME  12/12/2012 12:00:00 AM                             343.0"
      ]
     },
     "execution_count": 6,
     "metadata": {},
     "output_type": "execute_result"
    }
   ],
   "source": [
    "data = data.dropna()\n",
    "data.head()"
   ]
  },
  {
   "cell_type": "code",
   "execution_count": 11,
   "metadata": {
    "collapsed": false
   },
   "outputs": [
    {
     "data": {
      "image/png": "[encoded data removed]",
      "text/plain": [
       "<matplotlib.figure.Figure at 0x7f07516d3a50>"
      ]
     },
     "metadata": {},
     "output_type": "display_data"
    }
   ],
   "source": [
    "f_plot = data.plot(x='Date Sampled', y= 'Likes/Followers/Visits/Downloads',style = '.', title = \"Figure 1: Datawise Likes\", rot = 90)"
   ]
  },
  {
   "cell_type": "code",
   "execution_count": null,
   "metadata": {
    "collapsed": true
   },
   "outputs": [],
   "source": []
  }
 ],
 "metadata": {
  "kernelspec": {
   "display_name": "PUI2016_Python2",
   "language": "python",
   "name": "pui2016_python2"
  },
  "language_info": {
   "codemirror_mode": {
    "name": "ipython",
    "version": 2
   },
   "file_extension": ".py",
   "mimetype": "text/x-python",
   "name": "python",
   "nbconvert_exporter": "python",
   "pygments_lexer": "ipython2",
   "version": "2.7.12"
  }
 },
 "nbformat": 4,
 "nbformat_minor": 0
}
